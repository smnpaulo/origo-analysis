{
 "cells": [
  {
   "cell_type": "code",
   "execution_count": 1,
   "metadata": {
    "ExecuteTime": {
     "end_time": "2018-04-09T19:25:10.749702Z",
     "start_time": "2018-04-09T19:25:10.718502Z"
    }
   },
   "outputs": [],
   "source": [
    "import os\n",
    "from ast import literal_eval"
   ]
  },
  {
   "cell_type": "code",
   "execution_count": 2,
   "metadata": {
    "ExecuteTime": {
     "end_time": "2018-04-09T19:26:31.587302Z",
     "start_time": "2018-04-09T19:26:31.556102Z"
    }
   },
   "outputs": [],
   "source": [
    "with open('origo_all_articles.json','r', encoding='utf8') as f:\n",
    "    articles = f.read()"
   ]
  },
  {
   "cell_type": "code",
   "execution_count": 3,
   "metadata": {
    "ExecuteTime": {
     "end_time": "2018-04-09T19:26:37.145902Z",
     "start_time": "2018-04-09T19:26:36.943102Z"
    }
   },
   "outputs": [],
   "source": [
    "articles = literal_eval(articles)"
   ]
  },
  {
   "cell_type": "code",
   "execution_count": 5,
   "metadata": {
    "ExecuteTime": {
     "end_time": "2018-04-09T19:26:47.431302Z",
     "start_time": "2018-04-09T19:26:47.368902Z"
    }
   },
   "outputs": [],
   "source": [
    "with open('spiders/ItthonNagyvilagCikkek.csv', 'w', encoding='utf8') as wf:\n",
    "    for article in articles:\n",
    "        # check if article is domestic or political-themed\n",
    "        # create list of article urls\n",
    "        if str(article['article_url']).split('/')[3].lower() in ['itthon', 'nagyvilag']:\n",
    "            wf.write(str(article['article_url'])[1:-1])\n",
    "            wf.write(',\\n')      "
   ]
  },
  {
   "cell_type": "code",
   "execution_count": null,
   "metadata": {
    "collapsed": true
   },
   "outputs": [],
   "source": []
  }
 ],
 "metadata": {
  "kernelspec": {
   "display_name": "Python 3",
   "language": "python",
   "name": "python3"
  },
  "language_info": {
   "codemirror_mode": {
    "name": "ipython",
    "version": 3
   },
   "file_extension": ".py",
   "mimetype": "text/x-python",
   "name": "python",
   "nbconvert_exporter": "python",
   "pygments_lexer": "ipython3",
   "version": "3.6.4"
  },
  "varInspector": {
   "cols": {
    "lenName": 16,
    "lenType": 16,
    "lenVar": 40
   },
   "kernels_config": {
    "python": {
     "delete_cmd_postfix": "",
     "delete_cmd_prefix": "del ",
     "library": "var_list.py",
     "varRefreshCmd": "print(var_dic_list())"
    },
    "r": {
     "delete_cmd_postfix": ") ",
     "delete_cmd_prefix": "rm(",
     "library": "var_list.r",
     "varRefreshCmd": "cat(var_dic_list()) "
    }
   },
   "types_to_exclude": [
    "module",
    "function",
    "builtin_function_or_method",
    "instance",
    "_Feature"
   ],
   "window_display": false
  }
 },
 "nbformat": 4,
 "nbformat_minor": 2
}
