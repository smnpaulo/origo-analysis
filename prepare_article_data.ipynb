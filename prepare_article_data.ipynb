{
 "cells": [
  {
   "cell_type": "code",
   "execution_count": 11,
   "metadata": {
    "ExecuteTime": {
     "end_time": "2018-04-10T20:23:29.817500Z",
     "start_time": "2018-04-10T20:23:29.802500Z"
    }
   },
   "outputs": [],
   "source": [
    "import sqlite3\n",
    "import pandas as pd\n",
    "\n",
    "from nltk.stem.snowball import HungarianStemmer\n",
    "from nltk.corpus import stopwords\n",
    "from nltk import word_tokenize\n",
    "from sklearn.externals import joblib"
   ]
  },
  {
   "cell_type": "code",
   "execution_count": 14,
   "metadata": {
    "ExecuteTime": {
     "end_time": "2018-04-10T20:02:54.887500Z",
     "start_time": "2018-04-10T20:02:54.856500Z"
    }
   },
   "outputs": [],
   "source": [
    "# load articles from DB\n",
    "conn = sqlite3.connect(\"origo_articles_2014_2018.db\")\n",
    "\n",
    "origo_data = pd.read_sql_query(\"SELECT article_content, article_title, author, date from origo_data_all\", conn)"
   ]
  },
  {
   "cell_type": "code",
   "execution_count": 32,
   "metadata": {
    "ExecuteTime": {
     "end_time": "2018-04-10T20:03:12.817500Z",
     "start_time": "2018-04-10T20:03:01.489500Z"
    }
   },
   "outputs": [],
   "source": [
    "origo_data['date'] = pd.to_datetime(origo_data['date'])"
   ]
  },
  {
   "cell_type": "code",
   "execution_count": 33,
   "metadata": {
    "ExecuteTime": {
     "end_time": "2018-04-10T20:03:47.932500Z",
     "start_time": "2018-04-10T20:03:46.735500Z"
    }
   },
   "outputs": [],
   "source": [
    "# extract year, month, day, weekday info from publish date\n",
    "origo_data['year'] = origo_data['date'].apply(lambda x: int(x.year))\n",
    "origo_data['month'] = origo_data['date'].apply(lambda x: int(x.month))\n",
    "origo_data['day'] = origo_data['date'].apply(lambda x: int(x.day))\n",
    "origo_data['weekday'] = origo_data['date'].apply(lambda x: 1 if x.dayofweek in [0, 1, 2, 3, 4] else 0)"
   ]
  },
  {
   "cell_type": "code",
   "execution_count": 34,
   "metadata": {
    "ExecuteTime": {
     "end_time": "2018-04-10T20:03:50.267500Z",
     "start_time": "2018-04-10T20:03:50.223500Z"
    }
   },
   "outputs": [],
   "source": [
    "# isOrigo flag: true if article was published anonymously, as Origo\n",
    "origo_data['author_isOrigo'] = origo_data['author'].apply(lambda x: 1 if x == 'Origo' else 0)"
   ]
  },
  {
   "cell_type": "code",
   "execution_count": 35,
   "metadata": {
    "ExecuteTime": {
     "end_time": "2018-04-10T20:08:07.457500Z",
     "start_time": "2018-04-10T20:04:04.396500Z"
    }
   },
   "outputs": [],
   "source": [
    "# tokenize article title and content\n",
    "origo_data['article_content_tokenized'] = origo_data['article_content'].apply(lambda x: word_tokenize(x))\n",
    "origo_data['article_title_tokenized'] = origo_data['article_title'].apply(lambda x: word_tokenize(x))"
   ]
  },
  {
   "cell_type": "code",
   "execution_count": 36,
   "metadata": {
    "ExecuteTime": {
     "end_time": "2018-04-10T20:14:41.872500Z",
     "start_time": "2018-04-10T20:08:07.537500Z"
    }
   },
   "outputs": [],
   "source": [
    "# stem tokenized words and remove stopwords\n",
    "stemmer = HungarianStemmer()\n",
    "hungarian_stops = set(stopwords.words('hungarian'))\n",
    "origo_data['article_content_stemmed'] = origo_data['article_content_tokenized'].apply(lambda x: [stemmer.stem(word) for word in x if word not in hungarian_stops])\n",
    "origo_data['article_title_stemmed'] = origo_data['article_title_tokenized'].apply(lambda x: [stemmer.stem(word) for word in x if word not in hungarian_stops])"
   ]
  },
  {
   "cell_type": "code",
   "execution_count": 38,
   "metadata": {
    "ExecuteTime": {
     "end_time": "2018-04-10T20:16:54.196500Z",
     "start_time": "2018-04-10T20:16:54.109500Z"
    }
   },
   "outputs": [
    {
     "data": {
      "text/html": [
       "<div>\n",
       "<style scoped>\n",
       "    .dataframe tbody tr th:only-of-type {\n",
       "        vertical-align: middle;\n",
       "    }\n",
       "\n",
       "    .dataframe tbody tr th {\n",
       "        vertical-align: top;\n",
       "    }\n",
       "\n",
       "    .dataframe thead th {\n",
       "        text-align: right;\n",
       "    }\n",
       "</style>\n",
       "<table border=\"1\" class=\"dataframe\">\n",
       "  <thead>\n",
       "    <tr style=\"text-align: right;\">\n",
       "      <th></th>\n",
       "      <th>article_content</th>\n",
       "      <th>article_title</th>\n",
       "      <th>author</th>\n",
       "      <th>date</th>\n",
       "      <th>year</th>\n",
       "      <th>month</th>\n",
       "      <th>day</th>\n",
       "      <th>weekday</th>\n",
       "      <th>author_isOrigo</th>\n",
       "      <th>article_content_tokenized</th>\n",
       "      <th>article_title_tokenized</th>\n",
       "      <th>article_content_stemmed</th>\n",
       "      <th>article_title_stemmed</th>\n",
       "    </tr>\n",
       "  </thead>\n",
       "  <tbody>\n",
       "    <tr>\n",
       "      <th>0</th>\n",
       "      <td>Most olyan tanárok is főiskolai végzettségért ...</td>\n",
       "      <td>Főiskolai fizetést kapnak egyetemi végzettségű...</td>\n",
       "      <td>Origo</td>\n",
       "      <td>2014-04-01 08:52:00</td>\n",
       "      <td>2014</td>\n",
       "      <td>4</td>\n",
       "      <td>1</td>\n",
       "      <td>1</td>\n",
       "      <td>1</td>\n",
       "      <td>[Most, olyan, tanárok, is, főiskolai, végzetts...</td>\n",
       "      <td>[Főiskolai, fizetést, kapnak, egyetemi, végzet...</td>\n",
       "      <td>[mos, tanár, is, főiskol, végzettség, járó, fi...</td>\n",
       "      <td>[főiskol, fizetés, kap, egyetem, végzettségű, ...</td>\n",
       "    </tr>\n",
       "    <tr>\n",
       "      <th>1</th>\n",
       "      <td>Vádat emeltek a Király Tamást megfojtó 39 éves...</td>\n",
       "      <td>Tizenöt évet is kaphat Király Tamás gyilkosa</td>\n",
       "      <td>-</td>\n",
       "      <td>2014-04-01 09:03:00</td>\n",
       "      <td>2014</td>\n",
       "      <td>4</td>\n",
       "      <td>1</td>\n",
       "      <td>1</td>\n",
       "      <td>0</td>\n",
       "      <td>[Vádat, emeltek, a, Király, Tamást, megfojtó, ...</td>\n",
       "      <td>[Tizenöt, évet, is, kaphat, Király, Tamás, gyi...</td>\n",
       "      <td>[vád, emelt, király, tamás, megfojtó, 39, éves...</td>\n",
       "      <td>[tizen, év, is, kaph, király, tamás, gyilkos]</td>\n",
       "    </tr>\n",
       "    <tr>\n",
       "      <th>2</th>\n",
       "      <td>Robog tovább a miniszterelnök rózsaszín kanapé...</td>\n",
       "      <td>Orbán Viktor búskomoran ül a rózsaszín kanapéján</td>\n",
       "      <td>Origo</td>\n",
       "      <td>2014-04-01 09:46:00</td>\n",
       "      <td>2014</td>\n",
       "      <td>4</td>\n",
       "      <td>1</td>\n",
       "      <td>1</td>\n",
       "      <td>1</td>\n",
       "      <td>[Robog, tovább, a, miniszterelnök, rózsaszín, ...</td>\n",
       "      <td>[Orbán, Viktor, búskomoran, ül, a, rózsaszín, ...</td>\n",
       "      <td>[robog, minisztereln, rózsaszí, kanapés, kampá...</td>\n",
       "      <td>[orb, viktor, búskomor, ül, rózsaszí, kanapé]</td>\n",
       "    </tr>\n",
       "    <tr>\n",
       "      <th>3</th>\n",
       "      <td>A köztévéhez köthető hűtlen kezelés miatt nyom...</td>\n",
       "      <td>Közeleg a vádemelés a köztévés fantomcégek ügy...</td>\n",
       "      <td>Origo</td>\n",
       "      <td>2014-04-01 09:21:00</td>\n",
       "      <td>2014</td>\n",
       "      <td>4</td>\n",
       "      <td>1</td>\n",
       "      <td>1</td>\n",
       "      <td>1</td>\n",
       "      <td>[A, köztévéhez, köthető, hűtlen, kezelés, miat...</td>\n",
       "      <td>[Közeleg, a, vádemelés, a, köztévés, fantomcég...</td>\n",
       "      <td>[a, köztév, köthető, hűtlen, kezelés, miat, ny...</td>\n",
       "      <td>[közeleg, vádemelés, köztévés, fantomcég, ügy]</td>\n",
       "    </tr>\n",
       "    <tr>\n",
       "      <th>4</th>\n",
       "      <td>Nagyjából 30 ezer levélszavazat veszhet kárba,...</td>\n",
       "      <td>Minden negyedik levélszavazat érvénytelen</td>\n",
       "      <td>MTI</td>\n",
       "      <td>2014-04-01 13:27:00</td>\n",
       "      <td>2014</td>\n",
       "      <td>4</td>\n",
       "      <td>1</td>\n",
       "      <td>1</td>\n",
       "      <td>0</td>\n",
       "      <td>[Nagyjából, 30, ezer, levélszavazat, veszhet, ...</td>\n",
       "      <td>[Minden, negyedik, levélszavazat, érvénytelen]</td>\n",
       "      <td>[nagy, 30, ezer, levélszavaz, veszh, kár, ,, h...</td>\n",
       "      <td>[min, negyed, levélszavaz, érvénytel]</td>\n",
       "    </tr>\n",
       "    <tr>\n",
       "      <th>5</th>\n",
       "      <td>A PM politikusa szerint egy közteres furgonnal...</td>\n",
       "      <td>Őrséget szerveznek Karácsony Gergely plakátjai...</td>\n",
       "      <td>MTI</td>\n",
       "      <td>2014-04-01 11:30:00</td>\n",
       "      <td>2014</td>\n",
       "      <td>4</td>\n",
       "      <td>1</td>\n",
       "      <td>1</td>\n",
       "      <td>0</td>\n",
       "      <td>[A, PM, politikusa, szerint, egy, közteres, fu...</td>\n",
       "      <td>[Őrséget, szerveznek, Karácsony, Gergely, plak...</td>\n",
       "      <td>[a, pm, politikus, közteres, furg, utazt, ,, é...</td>\n",
       "      <td>[őrség, szervez, karácsony, gergely, plakát, mel]</td>\n",
       "    </tr>\n",
       "    <tr>\n",
       "      <th>6</th>\n",
       "      <td>Egy férfi életveszélyesen megfenyegetett fides...</td>\n",
       "      <td>Fidesz-aktivistákra támadtak Budapesten</td>\n",
       "      <td>Origo</td>\n",
       "      <td>2014-04-01 13:35:00</td>\n",
       "      <td>2014</td>\n",
       "      <td>4</td>\n",
       "      <td>1</td>\n",
       "      <td>1</td>\n",
       "      <td>1</td>\n",
       "      <td>[Egy, férfi, életveszélyesen, megfenyegetett, ...</td>\n",
       "      <td>[Fidesz-aktivistákra, támadtak, Budapesten]</td>\n",
       "      <td>[egy, férf, életveszélyes, megfenyegetet, fide...</td>\n",
       "      <td>[fidesz-aktivista, támadt, budapest]</td>\n",
       "    </tr>\n",
       "    <tr>\n",
       "      <th>7</th>\n",
       "      <td>Juhász Péter és Kerék-Bárczy Szabolcs számítás...</td>\n",
       "      <td>Együtt-PM: Rogán többet költ egy hónapban, min...</td>\n",
       "      <td>Origo</td>\n",
       "      <td>2014-04-01 14:12:00</td>\n",
       "      <td>2014</td>\n",
       "      <td>4</td>\n",
       "      <td>1</td>\n",
       "      <td>1</td>\n",
       "      <td>1</td>\n",
       "      <td>[Juhász, Péter, és, Kerék-Bárczy, Szabolcs, sz...</td>\n",
       "      <td>[Együtt-PM, :, Rogán, többet, költ, egy, hónap...</td>\n",
       "      <td>[juhász, péter, kerék-bárczy, szabolcs, számít...</td>\n",
       "      <td>[együtt-p, :, rog, több, köl, hónap, ,, amenny...</td>\n",
       "    </tr>\n",
       "    <tr>\n",
       "      <th>8</th>\n",
       "      <td>A 64 kilós példányt csak fél óráig kellett fár...</td>\n",
       "      <td>Kétméteres harcsát fogott, majd visszadobta</td>\n",
       "      <td>Origo</td>\n",
       "      <td>2014-04-01 14:13:00</td>\n",
       "      <td>2014</td>\n",
       "      <td>4</td>\n",
       "      <td>1</td>\n",
       "      <td>1</td>\n",
       "      <td>1</td>\n",
       "      <td>[A, 64, kilós, példányt, csak, fél, óráig, kel...</td>\n",
       "      <td>[Kétméteres, harcsát, fogott, ,, majd, visszad...</td>\n",
       "      <td>[a, 64, kilós, példány, fél, ór, fárasztan, .,...</td>\n",
       "      <td>[kétméteres, harcs, fogot, ,, visszadobt]</td>\n",
       "    </tr>\n",
       "    <tr>\n",
       "      <th>9</th>\n",
       "      <td>A matematika után újabb területen égtek le a m...</td>\n",
       "      <td>Megint leégtek a magyar diákok</td>\n",
       "      <td>Origo</td>\n",
       "      <td>2014-04-01 15:17:00</td>\n",
       "      <td>2014</td>\n",
       "      <td>4</td>\n",
       "      <td>1</td>\n",
       "      <td>1</td>\n",
       "      <td>1</td>\n",
       "      <td>[A, matematika, után, újabb, területen, égtek,...</td>\n",
       "      <td>[Megint, leégtek, a, magyar, diákok]</td>\n",
       "      <td>[a, matemat, terület, égt, le, magyar, diák, ,...</td>\n",
       "      <td>[megin, leégt, magyar, diák]</td>\n",
       "    </tr>\n",
       "  </tbody>\n",
       "</table>\n",
       "</div>"
      ],
      "text/plain": [
       "                                     article_content  \\\n",
       "0  Most olyan tanárok is főiskolai végzettségért ...   \n",
       "1  Vádat emeltek a Király Tamást megfojtó 39 éves...   \n",
       "2  Robog tovább a miniszterelnök rózsaszín kanapé...   \n",
       "3  A köztévéhez köthető hűtlen kezelés miatt nyom...   \n",
       "4  Nagyjából 30 ezer levélszavazat veszhet kárba,...   \n",
       "5  A PM politikusa szerint egy közteres furgonnal...   \n",
       "6  Egy férfi életveszélyesen megfenyegetett fides...   \n",
       "7  Juhász Péter és Kerék-Bárczy Szabolcs számítás...   \n",
       "8  A 64 kilós példányt csak fél óráig kellett fár...   \n",
       "9  A matematika után újabb területen égtek le a m...   \n",
       "\n",
       "                                       article_title author  \\\n",
       "0  Főiskolai fizetést kapnak egyetemi végzettségű...  Origo   \n",
       "1       Tizenöt évet is kaphat Király Tamás gyilkosa      -   \n",
       "2   Orbán Viktor búskomoran ül a rózsaszín kanapéján  Origo   \n",
       "3  Közeleg a vádemelés a köztévés fantomcégek ügy...  Origo   \n",
       "4          Minden negyedik levélszavazat érvénytelen    MTI   \n",
       "5  Őrséget szerveznek Karácsony Gergely plakátjai...    MTI   \n",
       "6            Fidesz-aktivistákra támadtak Budapesten  Origo   \n",
       "7  Együtt-PM: Rogán többet költ egy hónapban, min...  Origo   \n",
       "8        Kétméteres harcsát fogott, majd visszadobta  Origo   \n",
       "9                     Megint leégtek a magyar diákok  Origo   \n",
       "\n",
       "                 date  year  month  day  weekday  author_isOrigo  \\\n",
       "0 2014-04-01 08:52:00  2014      4    1        1               1   \n",
       "1 2014-04-01 09:03:00  2014      4    1        1               0   \n",
       "2 2014-04-01 09:46:00  2014      4    1        1               1   \n",
       "3 2014-04-01 09:21:00  2014      4    1        1               1   \n",
       "4 2014-04-01 13:27:00  2014      4    1        1               0   \n",
       "5 2014-04-01 11:30:00  2014      4    1        1               0   \n",
       "6 2014-04-01 13:35:00  2014      4    1        1               1   \n",
       "7 2014-04-01 14:12:00  2014      4    1        1               1   \n",
       "8 2014-04-01 14:13:00  2014      4    1        1               1   \n",
       "9 2014-04-01 15:17:00  2014      4    1        1               1   \n",
       "\n",
       "                           article_content_tokenized  \\\n",
       "0  [Most, olyan, tanárok, is, főiskolai, végzetts...   \n",
       "1  [Vádat, emeltek, a, Király, Tamást, megfojtó, ...   \n",
       "2  [Robog, tovább, a, miniszterelnök, rózsaszín, ...   \n",
       "3  [A, köztévéhez, köthető, hűtlen, kezelés, miat...   \n",
       "4  [Nagyjából, 30, ezer, levélszavazat, veszhet, ...   \n",
       "5  [A, PM, politikusa, szerint, egy, közteres, fu...   \n",
       "6  [Egy, férfi, életveszélyesen, megfenyegetett, ...   \n",
       "7  [Juhász, Péter, és, Kerék-Bárczy, Szabolcs, sz...   \n",
       "8  [A, 64, kilós, példányt, csak, fél, óráig, kel...   \n",
       "9  [A, matematika, után, újabb, területen, égtek,...   \n",
       "\n",
       "                             article_title_tokenized  \\\n",
       "0  [Főiskolai, fizetést, kapnak, egyetemi, végzet...   \n",
       "1  [Tizenöt, évet, is, kaphat, Király, Tamás, gyi...   \n",
       "2  [Orbán, Viktor, búskomoran, ül, a, rózsaszín, ...   \n",
       "3  [Közeleg, a, vádemelés, a, köztévés, fantomcég...   \n",
       "4     [Minden, negyedik, levélszavazat, érvénytelen]   \n",
       "5  [Őrséget, szerveznek, Karácsony, Gergely, plak...   \n",
       "6        [Fidesz-aktivistákra, támadtak, Budapesten]   \n",
       "7  [Együtt-PM, :, Rogán, többet, költ, egy, hónap...   \n",
       "8  [Kétméteres, harcsát, fogott, ,, majd, visszad...   \n",
       "9               [Megint, leégtek, a, magyar, diákok]   \n",
       "\n",
       "                             article_content_stemmed  \\\n",
       "0  [mos, tanár, is, főiskol, végzettség, járó, fi...   \n",
       "1  [vád, emelt, király, tamás, megfojtó, 39, éves...   \n",
       "2  [robog, minisztereln, rózsaszí, kanapés, kampá...   \n",
       "3  [a, köztév, köthető, hűtlen, kezelés, miat, ny...   \n",
       "4  [nagy, 30, ezer, levélszavaz, veszh, kár, ,, h...   \n",
       "5  [a, pm, politikus, közteres, furg, utazt, ,, é...   \n",
       "6  [egy, férf, életveszélyes, megfenyegetet, fide...   \n",
       "7  [juhász, péter, kerék-bárczy, szabolcs, számít...   \n",
       "8  [a, 64, kilós, példány, fél, ór, fárasztan, .,...   \n",
       "9  [a, matemat, terület, égt, le, magyar, diák, ,...   \n",
       "\n",
       "                               article_title_stemmed  \n",
       "0  [főiskol, fizetés, kap, egyetem, végzettségű, ...  \n",
       "1      [tizen, év, is, kaph, király, tamás, gyilkos]  \n",
       "2      [orb, viktor, búskomor, ül, rózsaszí, kanapé]  \n",
       "3     [közeleg, vádemelés, köztévés, fantomcég, ügy]  \n",
       "4              [min, negyed, levélszavaz, érvénytel]  \n",
       "5  [őrség, szervez, karácsony, gergely, plakát, mel]  \n",
       "6               [fidesz-aktivista, támadt, budapest]  \n",
       "7  [együtt-p, :, rog, több, köl, hónap, ,, amenny...  \n",
       "8          [kétméteres, harcs, fogot, ,, visszadobt]  \n",
       "9                       [megin, leégt, magyar, diák]  "
      ]
     },
     "execution_count": 38,
     "metadata": {},
     "output_type": "execute_result"
    }
   ],
   "source": [
    "origo_data.head(10)"
   ]
  },
  {
   "cell_type": "code",
   "execution_count": 43,
   "metadata": {},
   "outputs": [],
   "source": [
    "# save to DB\n",
    "df_to_db = origo_data.astype(str)\n",
    "df_to_db.to_sql('origo_data_enhanced', conn, if_exists = 'replace')"
   ]
  }
 ],
 "metadata": {
  "kernelspec": {
   "display_name": "Python 3",
   "language": "python",
   "name": "python3"
  },
  "language_info": {
   "codemirror_mode": {
    "name": "ipython",
    "version": 3
   },
   "file_extension": ".py",
   "mimetype": "text/x-python",
   "name": "python",
   "nbconvert_exporter": "python",
   "pygments_lexer": "ipython3",
   "version": "3.6.4"
  },
  "varInspector": {
   "cols": {
    "lenName": 16,
    "lenType": 16,
    "lenVar": 40
   },
   "kernels_config": {
    "python": {
     "delete_cmd_postfix": "",
     "delete_cmd_prefix": "del ",
     "library": "var_list.py",
     "varRefreshCmd": "print(var_dic_list())"
    },
    "r": {
     "delete_cmd_postfix": ") ",
     "delete_cmd_prefix": "rm(",
     "library": "var_list.r",
     "varRefreshCmd": "cat(var_dic_list()) "
    }
   },
   "types_to_exclude": [
    "module",
    "function",
    "builtin_function_or_method",
    "instance",
    "_Feature"
   ],
   "window_display": false
  }
 },
 "nbformat": 4,
 "nbformat_minor": 2
}
